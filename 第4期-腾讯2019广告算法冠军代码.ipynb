{
 "cells": [
  {
   "cell_type": "markdown",
   "metadata": {},
   "source": [
    "https://github.com/guoday/Tencent2019_Preliminary_Rank1st\n",
    "\n",
    "\n",
    "https://zhuanlan.zhihu.com/p/85520936"
   ]
  },
  {
   "cell_type": "code",
   "execution_count": 4,
   "metadata": {},
   "outputs": [],
   "source": [
    "import os\n",
    "import pandas as pd\n",
    "import numpy as np\n",
    "import random\n",
    "import gc\n",
    "import time\n",
    "from tqdm import tqdm"
   ]
  },
  {
   "cell_type": "code",
   "execution_count": null,
   "metadata": {},
   "outputs": [],
   "source": [
    "# pandas读取数据\n",
    "df=pd.read_csv('data/testA/totalExposureLog.out', sep='\\t',names=['id','request_timestamp','position','uid','aid','imp_ad_size','bid','pctr','quality_ecpm','totalEcpm']).sort_values(by='request_timestamp')\n",
    "# 数据类型转换\n",
    "df[['id','request_timestamp','position','uid','aid','imp_ad_size']]=df[['id','request_timestamp','position','uid','aid','imp_ad_size']].astype(int)\n",
    "df[['bid','pctr','quality_ecpm','totalEcpm']]=df[['bid','pctr','quality_ecpm','totalEcpm']].astype(float) \n",
    "# 序列化，加快读取速度\n",
    "df.to_pickle('data/testA/totalExposureLog.pkl') \n",
    "# 清理内存\n",
    "del df\n",
    "gc.collect()"
   ]
  },
  {
   "cell_type": "code",
   "execution_count": null,
   "metadata": {},
   "outputs": [],
   "source": [
    "# tqdm显示进度条\n",
    "for x in tqdm(train_df['request_timestamp'].values,total=len(train_df)):\n",
    "    localtime=time.localtime(x)\n",
    "    wday.append(localtime[6])\n",
    "    hour.append(localtime[3])\n",
    "    minute.append(localtime[4])"
   ]
  },
  {
   "cell_type": "code",
   "execution_count": null,
   "metadata": {},
   "outputs": [],
   "source": [
    "# totalExposureLog 曝光日志：每一次曝光的id，广告属性，广告出价等\n",
    "df[['id','request_timestamp','position','uid','aid','imp_ad_size','bid','pctr','quality_ecpm','totalEcpm']]\n",
    "# ad_static_feature 广告静态属性\n",
    "df[['aid','create_timestamp','advertiser','good_id','good_type','ad_type_id','ad_size']]\n",
    "# user_data 用户属性\n",
    "df[['uid','age','gender','area','status','education','concuptionAbility','os','work','connectionType','behavior']]\n",
    "# test_sample测试数据，目的是预测曝光数\n",
    "df[['id','aid','create_timestamp','ad_size','ad_type_id','good_type','good_id','advertiser','delivery_periods','crowd_direction','bid']]\n",
    "# ad_operation 广告操作数据，表示某一个广告在某一天对某个人群设定了某个投放时间段\n",
    "df[['aid','request_day','crowd_direction','delivery_periods']]"
   ]
  },
  {
   "cell_type": "code",
   "execution_count": null,
   "metadata": {},
   "outputs": [],
   "source": [
    "# 从totalExposureLog产出train和test 过滤异常值"
   ]
  },
  {
   "cell_type": "code",
   "execution_count": null,
   "metadata": {},
   "outputs": [],
   "source": [
    "#kfold_static构造\n",
    "fold_index= [0,1,2,3,4]\n",
    "f = ['aid','id','good_id']\n",
    "\n",
    "dic[fold_index][f] = [value1,value2,value3,...]\n",
    "cache={} # 保存index不同的所有特征值\n",
    "for item in train_df[['index',f]].values:\n",
    "    if tuple(item) not in cache:\n",
    "        temp=[]\n",
    "        for i in range(5):\n",
    "             if i!=item[0]: # i=0保留1234，i=1保留0134等\n",
    "                try:\n",
    "                    temp+=dic[i][item[1]]\n",
    "                except:\n",
    "                    pass\n",
    "        if len(temp)==0:\n",
    "            cache[tuple(item)]=[-1]*5\n",
    "        else:\n",
    "            # 最后temp里保留了4份数据\n",
    "            cache[tuple(item)]=[np.mean(temp),np.median(temp),np.std(temp),np.min(temp),np.max(temp)]\n",
    "    # 聚合\n",
    "    temp=cache[tuple(item)]\n",
    "    mean.append(temp[0])\n",
    "    median.append(temp[1])\n",
    "    std.append(temp[2])\n",
    "    Min.append(temp[3])\n",
    "    Max.append(temp[4])        "
   ]
  }
 ],
 "metadata": {
  "kernelspec": {
   "display_name": "Python 3",
   "language": "python",
   "name": "python3"
  },
  "language_info": {
   "codemirror_mode": {
    "name": "ipython",
    "version": 3
   },
   "file_extension": ".py",
   "mimetype": "text/x-python",
   "name": "python",
   "nbconvert_exporter": "python",
   "pygments_lexer": "ipython3",
   "version": "3.7.0"
  }
 },
 "nbformat": 4,
 "nbformat_minor": 2
}
