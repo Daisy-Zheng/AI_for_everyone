{
 "cells": [
  {
   "cell_type": "markdown",
   "metadata": {},
   "source": [
    "## Why-两面性\n",
    "- 减少重复劳动：逻辑隐藏在基类中，需要花力气找\n",
    "- 增加约束：避免发生低级错误"
   ]
  },
  {
   "cell_type": "markdown",
   "metadata": {},
   "source": [
    "## 深度学习为什么OOP\n",
    "- 深度学习最重要的事情：定义层是什么样子，能做什么事情\n",
    "- 定义结构（权重），计算逻辑，loss，metric\n",
    "- OOP思想应用于层的复用——完美！"
   ]
  },
  {
   "cell_type": "markdown",
   "metadata": {},
   "source": [
    "## keras OOP\n",
    "\n",
    "### [base_layer](https://keras.io/api/layers/base_layer/)\n",
    "\n",
    "__init__(): Defines custom layer attributes, and creates layer state variables that do not depend on input shapes, using add_weight().\n",
    "\n",
    "build(self, input_shape): This method can be used to create weights that depend on the shape(s) of the input(s), using add_weight(). __call__() will automatically build the layer (if it has not been built yet) by calling build().\n",
    "\n",
    "call(self, *args, **kwargs): Called in __call__ after making sure build() has been called. call() performs the logic of applying the layer to the input tensors (which should be passed in as argument). Two reserved keyword arguments you can optionally use in call() are: - training (boolean, whether the call is in inference mode or training mode) - mask (boolean tensor encoding masked timesteps in the input, used in RNN layers)\n",
    "\n",
    "get_config(self): Returns a dictionary containing the configuration used to initialize this layer. If the keys differ from the arguments in __init__, then override from_config(self) as well. This method is used when saving the layer or a model that contains this layer.\n",
    "\n",
    "懒加载（lazy loading）思想：用到的时候才创建\n",
    "\n",
    "为什么区分是否依赖输入维度？只想写死输出的维度，输出维度根据输入自动识别"
   ]
  },
  {
   "cell_type": "markdown",
   "metadata": {},
   "source": [
    "### [实战](https://keras.io/guides/making_new_layers_and_models_via_subclassing/#making-new-layers-and-models-via-subclassing)"
   ]
  },
  {
   "cell_type": "markdown",
   "metadata": {},
   "source": [
    "#### 最简单的wx+b如何实现（add_weight封装，简化代码）\n",
    "#### 固定权重，训练过程中不更新：trainable=False\n",
    "#### 根据输入自动推断维度\n",
    "#### 递归调用：层中层（不禁止套娃）\n",
    "#### loss\n",
    "- loss作为属性更新/调用\n",
    "- 每一轮（反向传播结束）重置\n",
    "\n",
    "#### metric\n",
    "- 使用方法和loss类似\n",
    "\n",
    "#### 序列化\n",
    "#### 训练/预测阶段做不同的事情： BatchNormalization / Dropout \n",
    "#### 处理序列数据：mask\n",
    "#### model类：把层装到一起\n",
    "#### 结合以上所有：MNIST数据集训练VAE\n",
    "#### 函数式API\n",
    "- 一行代码 = 一层 + 一输入 + 一输出 = 两个节点\n",
    "- 所有节点合起来 = DAG"
   ]
  },
  {
   "cell_type": "markdown",
   "metadata": {},
   "source": [
    "## 推荐学习资料\n",
    "https://github.com/shenweichen/DeepMatch\n",
    "\n",
    "https://github.com/shenweichen/DeepCTR\n",
    "\n",
    "https://spaces.ac.cn/tag/keras/"
   ]
  },
  {
   "cell_type": "code",
   "execution_count": null,
   "metadata": {},
   "outputs": [],
   "source": []
  }
 ],
 "metadata": {
  "kernelspec": {
   "display_name": "Python 3",
   "language": "python",
   "name": "python3"
  },
  "language_info": {
   "codemirror_mode": {
    "name": "ipython",
    "version": 3
   },
   "file_extension": ".py",
   "mimetype": "text/x-python",
   "name": "python",
   "nbconvert_exporter": "python",
   "pygments_lexer": "ipython3",
   "version": "3.7.0"
  },
  "toc": {
   "base_numbering": 1,
   "nav_menu": {},
   "number_sections": true,
   "sideBar": true,
   "skip_h1_title": false,
   "title_cell": "Table of Contents",
   "title_sidebar": "Contents",
   "toc_cell": false,
   "toc_position": {},
   "toc_section_display": true,
   "toc_window_display": false
  }
 },
 "nbformat": 4,
 "nbformat_minor": 2
}
